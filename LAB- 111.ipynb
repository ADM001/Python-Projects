{
 "cells": [
  {
   "cell_type": "code",
   "execution_count": 1,
   "id": "48bb85ce",
   "metadata": {},
   "outputs": [
    {
     "name": "stdout",
     "output_type": "stream",
     "text": [
      "['apple', 'banana', 'cherry']\n",
      "<class 'list'>\n"
     ]
    }
   ],
   "source": [
    "myFruitList= [\"apple\", \"banana\", \"cherry\"]\n",
    "print(myFruitList)\n",
    "print(type(myFruitList))"
   ]
  },
  {
   "cell_type": "code",
   "execution_count": 2,
   "id": "20dcd47d",
   "metadata": {},
   "outputs": [
    {
     "name": "stdout",
     "output_type": "stream",
     "text": [
      "apple\n"
     ]
    }
   ],
   "source": [
    "print(myFruitList[0])"
   ]
  },
  {
   "cell_type": "code",
   "execution_count": 3,
   "id": "7b0928ae",
   "metadata": {},
   "outputs": [
    {
     "name": "stdout",
     "output_type": "stream",
     "text": [
      "banana\n"
     ]
    }
   ],
   "source": [
    "print(myFruitList[1])"
   ]
  },
  {
   "cell_type": "code",
   "execution_count": 4,
   "id": "18423249",
   "metadata": {},
   "outputs": [
    {
     "name": "stdout",
     "output_type": "stream",
     "text": [
      "cherry\n"
     ]
    }
   ],
   "source": [
    "print(myFruitList[2])"
   ]
  },
  {
   "cell_type": "code",
   "execution_count": 5,
   "id": "d64c58b7",
   "metadata": {},
   "outputs": [],
   "source": [
    "myFruitList[2] = \"orange\""
   ]
  },
  {
   "cell_type": "code",
   "execution_count": 6,
   "id": "75a03a54",
   "metadata": {},
   "outputs": [
    {
     "name": "stdout",
     "output_type": "stream",
     "text": [
      "['apple', 'banana', 'orange']\n"
     ]
    }
   ],
   "source": [
    "print(myFruitList)"
   ]
  },
  {
   "cell_type": "code",
   "execution_count": 7,
   "id": "2c2f0ab7",
   "metadata": {},
   "outputs": [
    {
     "name": "stdout",
     "output_type": "stream",
     "text": [
      "('apple', 'banana', 'pineapple')\n",
      "<class 'tuple'>\n"
     ]
    }
   ],
   "source": [
    "myFinalAnswerTuple = (\"apple\", \"banana\", \"pineapple\")\n",
    "print(myFinalAnswerTuple)\n",
    "print(type(myFinalAnswerTuple))"
   ]
  },
  {
   "cell_type": "code",
   "execution_count": 8,
   "id": "a5b039b2",
   "metadata": {},
   "outputs": [
    {
     "name": "stdout",
     "output_type": "stream",
     "text": [
      "apple\n"
     ]
    }
   ],
   "source": [
    "print(myFinalAnswerTuple[0])"
   ]
  },
  {
   "cell_type": "code",
   "execution_count": 9,
   "id": "b9d24f29",
   "metadata": {},
   "outputs": [
    {
     "name": "stdout",
     "output_type": "stream",
     "text": [
      "banana\n"
     ]
    }
   ],
   "source": [
    "print(myFinalAnswerTuple[1])"
   ]
  },
  {
   "cell_type": "code",
   "execution_count": 10,
   "id": "fe260f7c",
   "metadata": {},
   "outputs": [
    {
     "name": "stdout",
     "output_type": "stream",
     "text": [
      "pineapple\n"
     ]
    }
   ],
   "source": [
    "print(myFinalAnswerTuple[2])"
   ]
  },
  {
   "cell_type": "code",
   "execution_count": 11,
   "id": "a9308298",
   "metadata": {},
   "outputs": [],
   "source": [
    "myFavoriteFruitDictionary = {\n",
    "  \"Adam\" : \"apple\",\n",
    "  \"Ben\" : \"banana\",\n",
    "  \"Penny\" : \"pineapple\"\n",
    "}"
   ]
  },
  {
   "cell_type": "code",
   "execution_count": 12,
   "id": "706dda7a",
   "metadata": {},
   "outputs": [
    {
     "name": "stdout",
     "output_type": "stream",
     "text": [
      "{'Adam': 'apple', 'Ben': 'banana', 'Penny': 'pineapple'}\n"
     ]
    }
   ],
   "source": [
    "print(myFavoriteFruitDictionary)"
   ]
  },
  {
   "cell_type": "code",
   "execution_count": 13,
   "id": "5ddd8e75",
   "metadata": {},
   "outputs": [
    {
     "name": "stdout",
     "output_type": "stream",
     "text": [
      "<class 'dict'>\n"
     ]
    }
   ],
   "source": [
    "print(type(myFavoriteFruitDictionary))"
   ]
  },
  {
   "cell_type": "code",
   "execution_count": 14,
   "id": "0e1d2b45",
   "metadata": {},
   "outputs": [
    {
     "name": "stdout",
     "output_type": "stream",
     "text": [
      "apple\n"
     ]
    }
   ],
   "source": [
    "print(myFavoriteFruitDictionary[\"Adam\"])"
   ]
  },
  {
   "cell_type": "code",
   "execution_count": 15,
   "id": "3ecebfc8",
   "metadata": {},
   "outputs": [
    {
     "name": "stdout",
     "output_type": "stream",
     "text": [
      "banana\n"
     ]
    }
   ],
   "source": [
    "print(myFavoriteFruitDictionary[\"Ben\"])"
   ]
  },
  {
   "cell_type": "code",
   "execution_count": 16,
   "id": "d0f13451",
   "metadata": {},
   "outputs": [
    {
     "name": "stdout",
     "output_type": "stream",
     "text": [
      "pineapple\n"
     ]
    }
   ],
   "source": [
    "print(myFavoriteFruitDictionary[\"Penny\"])"
   ]
  },
  {
   "cell_type": "code",
   "execution_count": null,
   "id": "b9669dc6",
   "metadata": {},
   "outputs": [],
   "source": []
  }
 ],
 "metadata": {
  "kernelspec": {
   "display_name": "Python 3",
   "language": "python",
   "name": "python3"
  },
  "language_info": {
   "codemirror_mode": {
    "name": "ipython",
    "version": 3
   },
   "file_extension": ".py",
   "mimetype": "text/x-python",
   "name": "python",
   "nbconvert_exporter": "python",
   "pygments_lexer": "ipython3",
   "version": "3.8.8"
  }
 },
 "nbformat": 4,
 "nbformat_minor": 5
}
