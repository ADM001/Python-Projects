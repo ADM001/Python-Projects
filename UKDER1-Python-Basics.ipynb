{
 "cells": [
  {
   "cell_type": "markdown",
   "metadata": {},
   "source": [
    "# Introduction to Python programming"
   ]
  },
  {
   "cell_type": "code",
   "execution_count": 1,
   "metadata": {},
   "outputs": [
    {
     "name": "stdout",
     "output_type": "stream",
     "text": [
      "Hello world\n"
     ]
    }
   ],
   "source": [
    "print('Hello world')"
   ]
  },
  {
   "cell_type": "code",
   "execution_count": 2,
   "metadata": {},
   "outputs": [
    {
     "name": "stdout",
     "output_type": "stream",
     "text": [
      "Intro\n"
     ]
    }
   ],
   "source": [
    "print('Intro')"
   ]
  },
  {
   "cell_type": "code",
   "execution_count": 2,
   "metadata": {},
   "outputs": [
    {
     "name": "stdout",
     "output_type": "stream",
     "text": [
      "10\n"
     ]
    }
   ],
   "source": [
    "count=10\n",
    "print(count)"
   ]
  },
  {
   "cell_type": "code",
   "execution_count": 3,
   "metadata": {},
   "outputs": [
    {
     "name": "stdout",
     "output_type": "stream",
     "text": [
      "Python has 3 numeric types: int, float, complex\n"
     ]
    }
   ],
   "source": [
    " print(\"Python has 3 numeric types: int, float, complex\")"
   ]
  },
  {
   "cell_type": "code",
   "execution_count": 4,
   "metadata": {},
   "outputs": [
    {
     "name": "stdout",
     "output_type": "stream",
     "text": [
      "1 is of data type <class 'int'>\n"
     ]
    }
   ],
   "source": [
    "myValue=1\n",
    "print(str(myValue) + \" is of data type \" + str(type(myValue)))"
   ]
  },
  {
   "cell_type": "code",
   "execution_count": 7,
   "metadata": {},
   "outputs": [
    {
     "name": "stdout",
     "output_type": "stream",
     "text": [
      "Python 3.7.6\n"
     ]
    }
   ],
   "source": [
    "!python --version"
   ]
  },
  {
   "cell_type": "markdown",
   "metadata": {},
   "source": [
    "# 109-[PF]-Lab - Numeric data types"
   ]
  },
  {
   "cell_type": "code",
   "execution_count": 14,
   "metadata": {},
   "outputs": [
    {
     "name": "stdout",
     "output_type": "stream",
     "text": [
      "Python has 3 numeric types: int, float, complex\n",
      "1\n",
      "<class 'int'>\n",
      "1 is of data type <class 'int'>\n"
     ]
    }
   ],
   "source": [
    "# Numeric Data Types\n",
    "\n",
    "print(\"Python has 3 numeric types: int, float, complex\")\n",
    " \n",
    "# Print a numeric of type \"int\"\n",
    "myValue=1\n",
    "print(myValue)\n",
    "print(type(myValue))\n",
    "print(str(myValue) + \" is of data type \" + str(type(myValue)))"
   ]
  },
  {
   "cell_type": "code",
   "execution_count": 9,
   "metadata": {},
   "outputs": [
    {
     "name": "stdout",
     "output_type": "stream",
     "text": [
      "3.14\n",
      "<class 'float'>\n",
      "3.14 is of data type <class 'float'>\n"
     ]
    }
   ],
   "source": [
    "# Print a numeric of type \"float\"\n",
    "myFloat=3.14\n",
    "print(myFloat)\n",
    "print(type(myFloat))\n",
    "print(str(myFloat) + \" is of data type \" + str(type(myFloat)))"
   ]
  },
  {
   "cell_type": "code",
   "execution_count": 10,
   "metadata": {},
   "outputs": [
    {
     "name": "stdout",
     "output_type": "stream",
     "text": [
      "5j\n",
      "<class 'complex'>\n",
      "5j is of data type <class 'complex'>\n"
     ]
    }
   ],
   "source": [
    "# Print a numeric of type \"complex\"\n",
    "myComplex=5j\n",
    "print(myComplex)\n",
    "print(type(myComplex))\n",
    "print(str(myComplex) + \" is of data type \" + str(type(myComplex)))"
   ]
  },
  {
   "cell_type": "code",
   "execution_count": 11,
   "metadata": {},
   "outputs": [
    {
     "name": "stdout",
     "output_type": "stream",
     "text": [
      "True\n",
      "<class 'bool'>\n",
      "True is of data type <class 'bool'>\n"
     ]
    }
   ],
   "source": [
    "# Booleans are implemented as a subclass of integers.\n",
    "myBoolean=True\n",
    "print(myBoolean)\n",
    "print(type(myBoolean))\n",
    "print(str(myBoolean) + \" is of data type \" + str(type(myBoolean)))"
   ]
  },
  {
   "cell_type": "code",
   "execution_count": 15,
   "metadata": {},
   "outputs": [
    {
     "data": {
      "text/plain": [
       "4"
      ]
     },
     "execution_count": 15,
     "metadata": {},
     "output_type": "execute_result"
    }
   ],
   "source": [
    "2 + 2"
   ]
  },
  {
   "cell_type": "markdown",
   "metadata": {},
   "source": [
    "# 110-[PF]-Lab - String data type\n",
    " String Data Type"
   ]
  },
  {
   "cell_type": "code",
   "execution_count": 24,
   "metadata": {},
   "outputs": [
    {
     "name": "stdout",
     "output_type": "stream",
     "text": [
      "This is a string.\n",
      "<class 'str'>\n",
      "This is a string. is of data type <class 'str'>\n"
     ]
    }
   ],
   "source": [
    "# Exercise 1: The String Data Type\n",
    "\n",
    "myString=\"This is a string.\"\n",
    "print(myString)\n",
    "print(type(myString))\n",
    "print(myString + \" is of data type \" + str(type(myString)))"
   ]
  },
  {
   "cell_type": "code",
   "execution_count": 21,
   "metadata": {},
   "outputs": [
    {
     "name": "stdout",
     "output_type": "stream",
     "text": [
      "waterfall\n"
     ]
    }
   ],
   "source": [
    "# Exercise 2: String Concatenation\n",
    "\n",
    "firstString=\"water\"\n",
    "secondString=\"fall\"\n",
    "thirdString= firstString + secondString\n",
    "print(thirdString)"
   ]
  },
  {
   "cell_type": "code",
   "execution_count": 1,
   "metadata": {},
   "outputs": [
    {
     "name": "stdout",
     "output_type": "stream",
     "text": [
      "What is your name? Robert\n",
      "Robert\n"
     ]
    }
   ],
   "source": [
    "# Exercise 3: Input String\n",
    "name = input(\"What is your name? \")\n",
    "print(name)"
   ]
  },
  {
   "cell_type": "code",
   "execution_count": 2,
   "metadata": {},
   "outputs": [
    {
     "name": "stdout",
     "output_type": "stream",
     "text": [
      "What is your favorite color? blue\n",
      "What is your favorite animal? lion\n",
      "Robert, you like a blue lion!\n"
     ]
    }
   ],
   "source": [
    "# Excercise 4: Format Output String\n",
    "color = input(\"What is your favorite color? \")\n",
    "animal = input(\"What is your favorite animal? \")\n",
    "print(\"{}, you like a {} {}!\".format(name,color,animal))"
   ]
  },
  {
   "cell_type": "code",
   "execution_count": 25,
   "metadata": {},
   "outputs": [
    {
     "name": "stdout",
     "output_type": "stream",
     "text": [
      "What is your name? Mou\n",
      "What is your favourite colour? blue\n",
      "What is your favourite animal? dolphin\n",
      "Hello Mou, would you like to see a blue dolphin?\n"
     ]
    }
   ],
   "source": [
    "name = input(\"What is your name? \")\n",
    "colour = input(\"What is your favourite colour? \")\n",
    "animal = input(\"What is your favourite animal? \")\n",
    "print(f\"Hello {name}, would you like to see a {colour} {animal}?\")"
   ]
  },
  {
   "cell_type": "markdown",
   "metadata": {},
   "source": [
    "# 111-[PF]-Lab - List, tuple, dictionary"
   ]
  },
  {
   "cell_type": "code",
   "execution_count": 26,
   "metadata": {},
   "outputs": [
    {
     "name": "stdout",
     "output_type": "stream",
     "text": [
      "['apple', 'banana', 'cherry']\n",
      "<class 'list'>\n",
      "apple\n",
      "banana\n",
      "cherry\n",
      "['apple', 'banana', 'orange']\n"
     ]
    }
   ],
   "source": [
    "# Exercise 1: The List Data Type\n",
    "\n",
    "myFruitList = [\"apple\", \"banana\", \"cherry\"]\n",
    "print(myFruitList)\n",
    "print(type(myFruitList))\n",
    "\n",
    "print(myFruitList[0])\n",
    "print(myFruitList[1])\n",
    "print(myFruitList[2])\n",
    "\n",
    "myFruitList[2] = \"orange\"\n",
    "print(myFruitList)"
   ]
  },
  {
   "cell_type": "code",
   "execution_count": 27,
   "metadata": {},
   "outputs": [
    {
     "name": "stdout",
     "output_type": "stream",
     "text": [
      "('apple', 'banana', 'pineapple')\n",
      "<class 'tuple'>\n",
      "apple\n",
      "banana\n",
      "pineapple\n"
     ]
    }
   ],
   "source": [
    "# Exercise 2: The Tuple Data Type\n",
    "\n",
    "myFinalAnswerTuple = (\"apple\", \"banana\", \"pineapple\")\n",
    "print(myFinalAnswerTuple)\n",
    "print(type(myFinalAnswerTuple))\n",
    "\n",
    "print(myFinalAnswerTuple[0])\n",
    "print(myFinalAnswerTuple[1])\n",
    "print(myFinalAnswerTuple[2])"
   ]
  },
  {
   "cell_type": "code",
   "execution_count": 28,
   "metadata": {},
   "outputs": [
    {
     "name": "stdout",
     "output_type": "stream",
     "text": [
      "{'Adam': 'apple', 'Ben': 'banana', 'Penny': 'pineapple'}\n",
      "<class 'dict'>\n",
      "apple\n",
      "banana\n",
      "pineapple\n"
     ]
    }
   ],
   "source": [
    "# Exericise 3: The Dictionary Data Type\n",
    "\n",
    "myFavoriteFruitDictionary = {\n",
    "    \"Adam\" : \"apple\",\n",
    "    \"Ben\" : \"banana\",\n",
    "    \"Penny\" : \"pineapple\"\n",
    "    }\n",
    "print(myFavoriteFruitDictionary)\n",
    "print(type(myFavoriteFruitDictionary))\n",
    "\n",
    "print(myFavoriteFruitDictionary[\"Adam\"])\n",
    "print(myFavoriteFruitDictionary[\"Ben\"])\n",
    "print(myFavoriteFruitDictionary[\"Penny\"])"
   ]
  },
  {
   "cell_type": "markdown",
   "metadata": {},
   "source": [
    "To understand the difference between List, Tuple & Dictionary, you may want to refer\n",
    "https://www.tutorialspoint.com/List-vs-tuple-vs-dictionary-in-Python"
   ]
  },
  {
   "cell_type": "markdown",
   "metadata": {},
   "source": [
    "# 112-[PF]-Lab - Categorize values"
   ]
  },
  {
   "cell_type": "code",
   "execution_count": 29,
   "metadata": {},
   "outputs": [
    {
     "name": "stdout",
     "output_type": "stream",
     "text": [
      "45 is of data type <class 'int'>\n",
      "290578 is of data type <class 'int'>\n",
      "1.02 is of data type <class 'float'>\n",
      "True is of data type <class 'bool'>\n",
      "My dog is on the bed. is of data type <class 'str'>\n",
      "45 is of data type <class 'str'>\n"
     ]
    }
   ],
   "source": [
    "# Lab 7: Categorize values into an appropriate data type\n",
    "\n",
    "# Exercise 1: Mixed Bag\n",
    "myMixedBagList = [45, 290578, 1.02, True, \"My dog is on the bed.\", \"45\"]\n",
    "\n",
    "for item in myMixedBagList:\n",
    "    print(\"{} is of data type {}\".format(item,type(item)))\n"
   ]
  },
  {
   "cell_type": "code",
   "execution_count": 1,
   "metadata": {},
   "outputs": [],
   "source": [
    "import os"
   ]
  },
  {
   "cell_type": "code",
   "execution_count": 2,
   "metadata": {},
   "outputs": [
    {
     "data": {
      "text/plain": [
       "['.adalcache',\n",
       " '.anaconda',\n",
       " '.android',\n",
       " '.AndroidStudio3.6',\n",
       " '.ask',\n",
       " '.aws',\n",
       " '.bash_history',\n",
       " '.conda',\n",
       " '.condarc',\n",
       " '.config',\n",
       " '.devaccounts',\n",
       " '.dotnet',\n",
       " '.extaccounts',\n",
       " '.gitconfig',\n",
       " '.idlerc',\n",
       " '.ipynb_checkpoints',\n",
       " '.ipython',\n",
       " '.jupyter',\n",
       " '.matplotlib',\n",
       " '.minttyrc',\n",
       " '.Neo4jDesktop',\n",
       " '.node_repl_history',\n",
       " '.nuget',\n",
       " '.pgAdmin4.1427416032.addr',\n",
       " '.pgAdmin4.1427416032.log',\n",
       " '.pgAdmin4.startup.log',\n",
       " '.PyCharm2019.3',\n",
       " '.PyCharmCE2019.3',\n",
       " '.pylint.d',\n",
       " '.QtWebEngineProcess',\n",
       " '.scalaide',\n",
       " '.spyder-py3',\n",
       " '.sqlworkbench',\n",
       " '.ssh',\n",
       " '.swt',\n",
       " '.Tableau Public',\n",
       " '.templateengine',\n",
       " '.VirtualBox',\n",
       " '.vscode',\n",
       " '.windows-build-tools',\n",
       " '3D Objects',\n",
       " 'AppData',\n",
       " 'Application Data',\n",
       " 'AzureStorageEmulatorDb52.mdf',\n",
       " 'AzureStorageEmulatorDb52_log.ldf',\n",
       " 'Chatbot.ipynb',\n",
       " 'codedeploypractice.pem',\n",
       " 'Cognizant Move out',\n",
       " 'Contacts',\n",
       " 'Cookies',\n",
       " 'Creative Cloud Files',\n",
       " 'Desktop',\n",
       " 'Documents',\n",
       " 'dominic.csv',\n",
       " 'dominic2.csv',\n",
       " 'Downloads',\n",
       " 'Favorites',\n",
       " 'github-codedeploy',\n",
       " 'GitTest',\n",
       " 'GitTest2',\n",
       " 'GitTest3',\n",
       " 'Google Drive',\n",
       " 'id_rsa',\n",
       " 'id_rsa.pub',\n",
       " 'Introduction.ipynb',\n",
       " 'KEY1201.pem',\n",
       " 'libmuse_6.0.2',\n",
       " 'Links',\n",
       " 'Local Settings',\n",
       " 'MicrosoftEdgeBackups',\n",
       " 'muse_recording.mat',\n",
       " 'Music',\n",
       " 'My Documents',\n",
       " 'Mylio',\n",
       " 'NetHood',\n",
       " 'NTUSER.DAT',\n",
       " 'ntuser.dat.LOG1',\n",
       " 'ntuser.dat.LOG2',\n",
       " 'NTUSER.DAT{a070d649-150f-11eb-83cd-402cf48e6d17}.TM.blf',\n",
       " 'NTUSER.DAT{a070d649-150f-11eb-83cd-402cf48e6d17}.TMContainer00000000000000000001.regtrans-ms',\n",
       " 'NTUSER.DAT{a070d649-150f-11eb-83cd-402cf48e6d17}.TMContainer00000000000000000002.regtrans-ms',\n",
       " 'ntuser.ini',\n",
       " 'OneDrive',\n",
       " 'Pictures',\n",
       " 'PrintHood',\n",
       " 'pubs.mdf',\n",
       " 'pubs_log.ldf',\n",
       " 'Recent',\n",
       " 'Saved Games',\n",
       " 'Searches',\n",
       " 'SendTo',\n",
       " 'skill',\n",
       " 'source',\n",
       " 'Start Menu',\n",
       " 'Templates',\n",
       " 'test-skill',\n",
       " 'testskill2',\n",
       " 'tmp',\n",
       " 'Untitled.ipynb',\n",
       " 'Videos',\n",
       " 'VirtualBox VMs',\n",
       " 'workspace']"
      ]
     },
     "execution_count": 2,
     "metadata": {},
     "output_type": "execute_result"
    }
   ],
   "source": [
    "os.listdir()"
   ]
  },
  {
   "cell_type": "code",
   "execution_count": 3,
   "metadata": {},
   "outputs": [],
   "source": [
    "os.mkdir(\"newfolder\")"
   ]
  },
  {
   "cell_type": "code",
   "execution_count": 4,
   "metadata": {},
   "outputs": [
    {
     "data": {
      "text/plain": [
       "'dominic'"
      ]
     },
     "execution_count": 4,
     "metadata": {},
     "output_type": "execute_result"
    }
   ],
   "source": [
    "os.getlogin()"
   ]
  },
  {
   "cell_type": "code",
   "execution_count": 4,
   "metadata": {},
   "outputs": [
    {
     "name": "stdout",
     "output_type": "stream",
     "text": [
      "Hello \n",
      "This is Delhi \n",
      "This is Paris \n",
      "This is London \n",
      "\n"
     ]
    }
   ],
   "source": [
    "with open('the-zen-of-python.txt') as f:\n",
    "    contents = f.read()\n",
    "    print(contents)"
   ]
  },
  {
   "cell_type": "code",
   "execution_count": 3,
   "metadata": {},
   "outputs": [],
   "source": [
    "file1 = open(\"the-zen-of-python.txt\",\"w+\")\n",
    "L = [\"This is Delhi \\n\",\"This is Paris \\n\",\"This is London \\n\"]\n",
    "\n",
    "file1.write(\"Hello \\n\")\n",
    "file1.writelines(L)\n",
    "file1.close() #to change file access modes"
   ]
  },
  {
   "cell_type": "code",
   "execution_count": 6,
   "metadata": {},
   "outputs": [
    {
     "name": "stdout",
     "output_type": "stream",
     "text": [
      "The value of 5^8: 390625.0\n",
      "Square root of 400: 20.0\n",
      "The value of 5^e: 148.4131591025766\n",
      "The value of Log(625), base 5: 4.0\n",
      "The value of Log(1024), base 2: 10.0\n",
      "The value of Log(1024), base 10: 3.010299956639812\n"
     ]
    }
   ],
   "source": [
    "import math\n",
    "\n",
    "print('The value of 5^8: ' + str(math.pow(5, 8)))\n",
    "print('Square root of 400: ' + str(math.sqrt(400)))\n",
    "print('The value of 5^e: ' + str(math.exp(5)))\n",
    "print('The value of Log(625), base 5: ' + str(math.log(625, 5)))\n",
    "print('The value of Log(1024), base 2: ' + str(math.log2(1024)))\n",
    "print('The value of Log(1024), base 10: ' + str(math.log10(1024)))"
   ]
  },
  {
   "cell_type": "code",
   "execution_count": 16,
   "metadata": {},
   "outputs": [
    {
     "name": "stdout",
     "output_type": "stream",
     "text": [
      "My website is Latracal \n",
      "Solution\n",
      "My website is Latracal \n",
      "\r",
      "Solution\n",
      "My web\n",
      "site is Latracal \n",
      "\r",
      " Solution\n"
     ]
    }
   ],
   "source": [
    "string = 'My website is Latracal \\nSolution'\n",
    "print(string)\n",
    " \n",
    "string = 'My website is Latracal \\n\\rSolution'\n",
    "print(string)\n",
    "string = 'My web\\nsite is Latracal \\n\\r Solution'\n",
    " \n",
    "print(string)"
   ]
  },
  {
   "cell_type": "code",
   "execution_count": 33,
   "metadata": {},
   "outputs": [
    {
     "name": "stdout",
     "output_type": "stream",
     "text": [
      "1\n",
      "2\n",
      "3\n",
      "4\n",
      "5\n",
      "6\n",
      "7\n",
      "8\n",
      "9\n",
      "10\n",
      "11\n",
      "12\n",
      "13\n",
      "14\n",
      "15\n",
      "16\n",
      "17\n",
      "18\n",
      "19\n",
      "20\n",
      "21\n",
      "22\n",
      "23\n",
      "24\n",
      "25\n",
      "26\n",
      "27\n",
      "28\n",
      "29\n",
      "30\n",
      "31\n",
      "32\n",
      "33\n",
      "34\n",
      "35\n",
      "36\n",
      "37\n",
      "38\n",
      "39\n",
      "40\n",
      "41\n",
      "42\n",
      "43\n",
      "44\n",
      "45\n",
      "46\n",
      "47\n",
      "48\n",
      "49\n",
      "50\n",
      "51\n",
      "52\n",
      "53\n",
      "54\n",
      "55\n",
      "56\n",
      "57\n",
      "58\n",
      "59\n",
      "60\n",
      "61\n",
      "62\n",
      "63\n",
      "64\n",
      "65\n",
      "66\n",
      "67\n",
      "68\n",
      "69\n",
      "70\n",
      "71\n",
      "72\n",
      "73\n",
      "74\n",
      "75\n",
      "76\n",
      "77\n",
      "78\n",
      "79\n",
      "80\n",
      "81\n",
      "82\n",
      "83\n",
      "84\n",
      "85\n",
      "86\n",
      "87\n",
      "88\n",
      "89\n",
      "90\n",
      "91\n",
      "92\n",
      "93\n",
      "94\n",
      "95\n",
      "96\n",
      "97\n",
      "98\n",
      "99\n"
     ]
    }
   ],
   "source": [
    "for number in range(1,100):\n",
    "    print(number)"
   ]
  },
  {
   "cell_type": "code",
   "execution_count": 27,
   "metadata": {},
   "outputs": [
    {
     "name": "stdout",
     "output_type": "stream",
     "text": [
      "1\n",
      "\n",
      "2\n",
      "\n",
      "3\n",
      "\n",
      "4\n",
      "\n",
      "5\n",
      "\n",
      "6\n",
      "\n",
      "7\n",
      "\n",
      "8\n",
      "\n",
      "9\n",
      "\n",
      "10\n",
      "\n"
     ]
    }
   ],
   "source": [
    "a=1\n",
    "while(a<=10):\n",
    "    print(str(a)+\"\\n\")\n",
    "    a=a+1"
   ]
  },
  {
   "cell_type": "code",
   "execution_count": 30,
   "metadata": {},
   "outputs": [
    {
     "name": "stdout",
     "output_type": "stream",
     "text": [
      "[1]\n",
      "1\n",
      "[1, 2]\n",
      "2\n",
      "[1, 2, 3]\n",
      "3\n",
      "[1, 2, 3, 4]\n",
      "4\n",
      "[1, 2, 3, 4, 5]\n",
      "5\n",
      "[1, 2, 3, 4, 5, 6]\n",
      "6\n",
      "[1, 2, 3, 4, 5, 6, 7]\n",
      "7\n",
      "[1, 2, 3, 4, 5, 6, 7, 8]\n",
      "8\n",
      "[1, 2, 3, 4, 5, 6, 7, 8, 9]\n",
      "9\n",
      "[1, 2, 3, 4, 5, 6, 7, 8, 9, 10]\n",
      "10\n",
      "[1, 2, 3, 4, 5, 6, 7, 8, 9, 10, 11]\n",
      "[1, 2, 3, 4, 5, 6, 7, 8, 9, 10, 11]\n"
     ]
    }
   ],
   "source": [
    "a=[1]\n",
    "print(a)\n",
    "for i in a:\n",
    "    if i<=10:\n",
    "        print(i)\n",
    "        a.append(i+1)\n",
    "        print(a)\n",
    "print(a)    "
   ]
  },
  {
   "cell_type": "code",
   "execution_count": 32,
   "metadata": {},
   "outputs": [
    {
     "name": "stdout",
     "output_type": "stream",
     "text": [
      "[123, 'xyz', 'zara', 'abc', 2009]\n"
     ]
    }
   ],
   "source": [
    "aList = [123, 'xyz', 'zara', 'abc'];\n",
    "aList.append( 2009 );\n",
    "print(aList)"
   ]
  },
  {
   "cell_type": "code",
   "execution_count": 37,
   "metadata": {},
   "outputs": [
    {
     "name": "stdout",
     "output_type": "stream",
     "text": [
      "Return Code: 0 \n",
      "\n",
      "output is: \n",
      " b'\\r\\nPinging google.com [142.250.193.142] with 32 bytes of data:\\r\\nReply from 142.250.193.142: bytes=32 time=4ms TTL=118\\r\\nReply from 142.250.193.142: bytes=32 time=4ms TTL=118\\r\\nReply from 142.250.193.142: bytes=32 time=4ms TTL=118\\r\\nReply from 142.250.193.142: bytes=32 time=4ms TTL=118\\r\\n\\r\\nPing statistics for 142.250.193.142:\\r\\n    Packets: Sent = 4, Received = 4, Lost = 0 (0% loss),\\r\\nApproximate round trip times in milli-seconds:\\r\\n    Minimum = 4ms, Maximum = 4ms, Average = 4ms\\r\\n'\n",
      "error is: \n",
      " b''\n"
     ]
    }
   ],
   "source": [
    "#!/usr/bin/env python3\n",
    "\n",
    "import subprocess\n",
    "\n",
    "# Define command as string and then split() into list format\n",
    "cmd = 'ping google.com'\n",
    "\n",
    "# Use shell to execute the command, store the stdout and stderr in sp variable\n",
    "sp = subprocess.Popen(cmd,\n",
    "        shell=True,\n",
    "        stdout=subprocess.PIPE,\n",
    "        stderr=subprocess.PIPE)\n",
    "\n",
    "# Store the return code in rc variable\n",
    "rc=sp.wait()\n",
    "\n",
    "# Separate the output and error by communicating with sp variable.\n",
    "# This is similar to Tuple where we store two values to two different variables\n",
    "out,err=sp.communicate()\n",
    "\n",
    "print('Return Code:',rc,'\\n')\n",
    "print('output is: \\n', out)\n",
    "print('error is: \\n', err)"
   ]
  },
  {
   "cell_type": "markdown",
   "metadata": {},
   "source": [
    "# To learn more about subprocess\n",
    "https://www.golinuxcloud.com/python-subprocess/\n",
    "\n"
   ]
  },
  {
   "cell_type": "markdown",
   "metadata": {},
   "source": [
    "# Python Program to print Prime Numbers from 1 to N"
   ]
  },
  {
   "cell_type": "code",
   "execution_count": 4,
   "metadata": {},
   "outputs": [
    {
     "name": "stdout",
     "output_type": "stream",
     "text": [
      "Enter starting number of the interval : 1\n",
      "Enter ending number of the interval : 250\n",
      "Prime Numbers Between  1  and  250  : \n",
      "2 3 4 5 7 11 13 17 19 23 29 31 37 41 43 47 53 59 61 67 71 73 79 83 89 97 101 103 107 109 113 127 131 137 139 149 151 157 163 167 173 179 181 191 193 197 199 211 223 227 229 233 239 241 \n"
     ]
    }
   ],
   "source": [
    "# Number that is divisible only by itself and 1 (e.g. 2, 3, 5, 7, 11):\n",
    "\n",
    "start = int(input(\"Enter starting number of the interval : \"))\n",
    "end = int(input(\"Enter ending number of the interval : \"))\n",
    "\n",
    "print(\"Prime Numbers Between \", start, \" and \", end, \" : \")\n",
    "\n",
    "for i in range(start, end+1):\n",
    "    isPrime = True\n",
    "    if(i <= 1):\n",
    "        isPrime = False\n",
    "    else:\n",
    "        for j in range(2, int(i/2)):\n",
    "            if(i % j == 0):\n",
    "                isPrime = False\n",
    "                break\n",
    "    if (isPrime):\n",
    "        print(i, end=\" \")\n",
    "print()"
   ]
  },
  {
   "cell_type": "markdown",
   "metadata": {},
   "source": [
    "Enter how many numbers needed in Fibonacci series- 5\n",
    "\n",
    "until 5 numbers (sum of previous two numbers)\n",
    "\n",
    "Initialization:\n",
    "--------------\n",
    "num1 = 0\n",
    "num2 = 1\n",
    "Series = 0 \n",
    "---------------------------------------\n",
    "i=0\n",
    "num1=1 (num1 = num2)\n",
    "num2=0 (num2 = series)\n",
    "series = 1 + 0 = 1 (series = num1 + num2)\n",
    "---------------------------------------\n",
    "i=1\n",
    "series = 1\n",
    "num1=0\n",
    "num2 = 1\n",
    "series = 0 + 1 = 1\n",
    "---------------------------------------\n",
    "i=2\n",
    "series=1\n",
    "num1 = 1\n",
    "num2=1\n",
    "series = 1 + 1 = 2\n",
    "---------------------------------------\n",
    "i=3\n",
    "num1 = 1\n",
    "num2 = 2\n",
    "series = 1 + 2 = 3\n",
    "\n",
    "\n",
    "Output\n",
    "0 1 1 2 3"
   ]
  },
  {
   "cell_type": "markdown",
   "metadata": {},
   "source": [
    "# Print Odd and even numbers"
   ]
  },
  {
   "cell_type": "code",
   "execution_count": 2,
   "metadata": {},
   "outputs": [
    {
     "name": "stdout",
     "output_type": "stream",
     "text": [
      "1  is odd\n",
      "2  is even\n",
      "3  is odd\n",
      "4  is even\n",
      "5  is odd\n",
      "6  is even\n",
      "7  is odd\n",
      "8  is even\n",
      "9  is odd\n",
      "10  is even\n",
      "11  is odd\n",
      "12  is even\n",
      "13  is odd\n",
      "14  is even\n",
      "15  is odd\n",
      "16  is even\n",
      "17  is odd\n",
      "18  is even\n",
      "19  is odd\n",
      "20  is even\n"
     ]
    }
   ],
   "source": [
    "for i in range(1,21):\n",
    "    if ((i % 2) == 0):\n",
    "        print(i,\" is even\")\n",
    "    else:\n",
    "        print(i,\" is odd\")"
   ]
  },
  {
   "cell_type": "markdown",
   "metadata": {},
   "source": [
    "# Fibonacci series"
   ]
  },
  {
   "cell_type": "code",
   "execution_count": 3,
   "metadata": {},
   "outputs": [
    {
     "name": "stdout",
     "output_type": "stream",
     "text": [
      "Enter how many numbers needed in Fibonacci series- 5\n",
      "0 1 1 2 3 "
     ]
    }
   ],
   "source": [
    "def fibonacci(num):\n",
    "    num1 = 0\n",
    "    num2 = 1\n",
    "    series = 0\n",
    "    for i in range(num):\n",
    "        print(series, end=' ');\n",
    "        num1 = num2;\n",
    "        num2 = series;\n",
    "        series = num1 + num2;\n",
    " \n",
    " \n",
    "# running function after takking user input\n",
    "num = int(input('Enter how many numbers needed in Fibonacci series- '))\n",
    "fibonacci(num)"
   ]
  },
  {
   "cell_type": "markdown",
   "metadata": {},
   "source": [
    "# Read text file into a variable and replace all newlines with space\n",
    "\n",
    "Sample.txt \n",
    "\n",
    "Line1\n",
    "line2\n",
    "line3\n",
    "line4\n",
    "line5"
   ]
  },
  {
   "cell_type": "code",
   "execution_count": null,
   "metadata": {},
   "outputs": [],
   "source": [
    "with open('sample.txt', 'r') as file:\n",
    "    data = file.read().replace('\\n', ' ')\n",
    "    print(data)"
   ]
  },
  {
   "cell_type": "markdown",
   "metadata": {},
   "source": [
    "# Convert the following dictionary into JSON format"
   ]
  },
  {
   "cell_type": "code",
   "execution_count": 7,
   "metadata": {},
   "outputs": [
    {
     "name": "stdout",
     "output_type": "stream",
     "text": [
      "{\"key1\": \"value1\", \"key2\": \"value2\"}\n"
     ]
    }
   ],
   "source": [
    "import json\n",
    "\n",
    "data = {\"key1\" : \"value1\", \"key2\" : \"value2\"}\n",
    "\n",
    "jsonData = json.dumps(data)\n",
    "print(jsonData)"
   ]
  },
  {
   "cell_type": "markdown",
   "metadata": {},
   "source": [
    "# Access the value of key2 from the following JSON"
   ]
  },
  {
   "cell_type": "code",
   "execution_count": 8,
   "metadata": {},
   "outputs": [
    {
     "name": "stdout",
     "output_type": "stream",
     "text": [
      "value2\n"
     ]
    }
   ],
   "source": [
    "import json\n",
    "\n",
    "sampleJson = \"\"\"{\"key1\": \"value1\", \"key2\": \"value2\"}\"\"\"\n",
    "\n",
    "data = json.loads(sampleJson)\n",
    "print(data['key2'])"
   ]
  },
  {
   "cell_type": "markdown",
   "metadata": {},
   "source": [
    "# Sort JSON keys in and write them into a file"
   ]
  },
  {
   "cell_type": "code",
   "execution_count": 10,
   "metadata": {},
   "outputs": [
    {
     "name": "stdout",
     "output_type": "stream",
     "text": [
      "Started writing JSON data into a file\n",
      "Done writing JSON data into a file\n"
     ]
    }
   ],
   "source": [
    "import json\n",
    "\n",
    "sampleJson = {\"id\" : 1, \"name\" : \"value2\", \"age\" : 29}\n",
    "\n",
    "print(\"Started writing JSON data into a file\")\n",
    "\n",
    "with open(\"sampleJson.json\", \"w\") as write_file:\n",
    "    json.dump(sampleJson, write_file, indent=4, sort_keys=True)\n",
    "    \n",
    "print(\"Done writing JSON data into a file\")"
   ]
  },
  {
   "cell_type": "markdown",
   "metadata": {},
   "source": [
    "# Access the nested key ‘salary’ from the following JSON"
   ]
  },
  {
   "cell_type": "code",
   "execution_count": 11,
   "metadata": {},
   "outputs": [
    {
     "name": "stdout",
     "output_type": "stream",
     "text": [
      "7000\n"
     ]
    }
   ],
   "source": [
    "import json\n",
    "\n",
    "sampleJson = \"\"\"{ \n",
    "   \"company\":{ \n",
    "      \"employee\":{ \n",
    "         \"name\":\"emma\",\n",
    "         \"payble\":{ \n",
    "            \"salary\":7000,\n",
    "            \"bonus\":800\n",
    "         }\n",
    "      }\n",
    "   }\n",
    "}\"\"\"\n",
    "\n",
    "data = json.loads(sampleJson)\n",
    "print(data['company']['employee']['payble']['salary'])"
   ]
  },
  {
   "cell_type": "markdown",
   "metadata": {},
   "source": [
    "# Check whether following json is valid or invalid. If Invalid correct it"
   ]
  },
  {
   "cell_type": "code",
   "execution_count": 12,
   "metadata": {},
   "outputs": [
    {
     "name": "stderr",
     "output_type": "stream",
     "text": [
      "Expecting ',' delimiter: line 1 column 68 (char 67)\n"
     ]
    }
   ],
   "source": [
    "echo { \"company\":{ \"employee\":{ \"name\":\"emma\", \"payble\":{ \"salary\":7000 \"bonus\":800} } } } | python -m json.tool\n"
   ]
  },
  {
   "cell_type": "code",
   "execution_count": 13,
   "metadata": {},
   "outputs": [
    {
     "name": "stdout",
     "output_type": "stream",
     "text": [
      "{\n",
      "    \"company\": {\n",
      "        \"employee\": {\n",
      "            \"name\": \"emma\",\n",
      "            \"payble\": {\n",
      "                \"salary\": 7000,\n",
      "                \"bonus\": 800\n",
      "            }\n",
      "        }\n",
      "    }\n",
      "}\n"
     ]
    }
   ],
   "source": [
    "echo { \"company\":{ \"employee\":{ \"name\":\"emma\", \"payble\":{ \"salary\":7000, \"bonus\":800} } } } | python -m json.tool\n"
   ]
  },
  {
   "cell_type": "markdown",
   "metadata": {},
   "source": []
  },
  {
   "cell_type": "code",
   "execution_count": null,
   "metadata": {},
   "outputs": [],
   "source": []
  }
 ],
 "metadata": {
  "kernelspec": {
   "display_name": "Python 3",
   "language": "python",
   "name": "python3"
  },
  "language_info": {
   "codemirror_mode": {
    "name": "ipython",
    "version": 3
   },
   "file_extension": ".py",
   "mimetype": "text/x-python",
   "name": "python",
   "nbconvert_exporter": "python",
   "pygments_lexer": "ipython3",
   "version": "3.7.6"
  }
 },
 "nbformat": 4,
 "nbformat_minor": 4
}
