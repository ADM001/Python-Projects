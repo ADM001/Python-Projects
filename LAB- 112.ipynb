{
 "cells": [
  {
   "cell_type": "code",
   "execution_count": 1,
   "id": "d5ecc5bc",
   "metadata": {},
   "outputs": [],
   "source": [
    "myMixedBagList = [45, 290578, 1.02, True, \"My dog is on the bed.\", \"45\"]\n"
   ]
  },
  {
   "cell_type": "code",
   "execution_count": 2,
   "id": "f992bd52",
   "metadata": {},
   "outputs": [
    {
     "name": "stdout",
     "output_type": "stream",
     "text": [
      "45 is of data type <class 'int'>\n",
      "290578 is of data type <class 'int'>\n",
      "1.02 is of data type <class 'float'>\n",
      "True is of data type <class 'bool'>\n",
      "My dog is on the bed. is of data type <class 'str'>\n",
      "45 is of data type <class 'str'>\n"
     ]
    }
   ],
   "source": [
    "for item in myMixedBagList:\n",
    "  print(\"{} is of data type {}\".format(item,type(item)))"
   ]
  },
  {
   "cell_type": "code",
   "execution_count": null,
   "id": "ef127976",
   "metadata": {},
   "outputs": [],
   "source": []
  }
 ],
 "metadata": {
  "kernelspec": {
   "display_name": "Python 3",
   "language": "python",
   "name": "python3"
  },
  "language_info": {
   "codemirror_mode": {
    "name": "ipython",
    "version": 3
   },
   "file_extension": ".py",
   "mimetype": "text/x-python",
   "name": "python",
   "nbconvert_exporter": "python",
   "pygments_lexer": "ipython3",
   "version": "3.8.8"
  }
 },
 "nbformat": 4,
 "nbformat_minor": 5
}
