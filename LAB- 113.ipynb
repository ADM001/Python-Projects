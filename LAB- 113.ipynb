{
 "cells": [
  {
   "cell_type": "code",
   "execution_count": 1,
   "id": "513edeb3",
   "metadata": {},
   "outputs": [],
   "source": [
    "import csv\n",
    "import copy"
   ]
  },
  {
   "cell_type": "code",
   "execution_count": 2,
   "id": "cc3cfe7a",
   "metadata": {},
   "outputs": [],
   "source": [
    "myVehicle = {\n",
    "  \"vin\" : \"<empty>\",\n",
    "  \"make\" : \"<empty>\" ,\n",
    "  \"model\" : \"<empty>\" ,\n",
    "  \"year\" : 0,\n",
    "  \"range\" : 0,\n",
    "  \"topSpeed\" : 0,\n",
    "  \"zeroSixty\" : 0.0,\n",
    "  \"mileage\" : 0\n",
    "}"
   ]
  },
  {
   "cell_type": "code",
   "execution_count": 8,
   "id": "97316b7b",
   "metadata": {},
   "outputs": [
    {
     "name": "stdout",
     "output_type": "stream",
     "text": [
      "vin : <empty>\n",
      "make : <empty>\n",
      "model : <empty>\n",
      "year : 0\n",
      "range : 0\n",
      "topSpeed : 0\n",
      "zeroSixty : 0.0\n",
      "mileage : 0\n"
     ]
    }
   ],
   "source": [
    "for key, value in myVehicle.items():\n",
    "  print(\"{} : {}\".format(key,value))"
   ]
  },
  {
   "cell_type": "code",
   "execution_count": 4,
   "id": "c3532529",
   "metadata": {},
   "outputs": [],
   "source": []
  },
  {
   "cell_type": "code",
   "execution_count": 5,
   "id": "df8f132d",
   "metadata": {},
   "outputs": [
    {
     "name": "stdout",
     "output_type": "stream",
     "text": [
      "vin : <empty>\n",
      "make : <empty>\n",
      "model : <empty>\n",
      "year : 0\n",
      "range : 0\n",
      "topSpeed : 0\n",
      "zeroSixty : 0.0\n",
      "mileage : 0\n"
     ]
    }
   ],
   "source": [
    "for key, value in myVehicle.items():\n",
    "  print(\"{} : {}\".format(key,value))"
   ]
  },
  {
   "cell_type": "code",
   "execution_count": 6,
   "id": "c177b725",
   "metadata": {},
   "outputs": [],
   "source": [
    "myInventoryList = []"
   ]
  },
  {
   "cell_type": "code",
   "execution_count": 7,
   "id": "22589c87",
   "metadata": {},
   "outputs": [
    {
     "ename": "FileNotFoundError",
     "evalue": "[Errno 2] No such file or directory: 'car_fleet.csv'",
     "output_type": "error",
     "traceback": [
      "\u001b[1;31m---------------------------------------------------------------------------\u001b[0m",
      "\u001b[1;31mFileNotFoundError\u001b[0m                         Traceback (most recent call last)",
      "\u001b[1;32m<ipython-input-7-05cd5ce9c061>\u001b[0m in \u001b[0;36m<module>\u001b[1;34m\u001b[0m\n\u001b[1;32m----> 1\u001b[1;33m \u001b[1;32mwith\u001b[0m \u001b[0mopen\u001b[0m\u001b[1;33m(\u001b[0m\u001b[1;34m'car_fleet.csv'\u001b[0m\u001b[1;33m)\u001b[0m \u001b[1;32mas\u001b[0m \u001b[0mcsvFile\u001b[0m\u001b[1;33m:\u001b[0m\u001b[1;33m\u001b[0m\u001b[1;33m\u001b[0m\u001b[0m\n\u001b[0m\u001b[0;32m      2\u001b[0m   \u001b[0mcsvReader\u001b[0m \u001b[1;33m=\u001b[0m \u001b[0mcsv\u001b[0m\u001b[1;33m.\u001b[0m\u001b[0mreader\u001b[0m\u001b[1;33m(\u001b[0m\u001b[0mcsvFile\u001b[0m\u001b[1;33m,\u001b[0m \u001b[0mdelimiter\u001b[0m\u001b[1;33m=\u001b[0m\u001b[1;34m','\u001b[0m\u001b[1;33m)\u001b[0m\u001b[1;33m\u001b[0m\u001b[1;33m\u001b[0m\u001b[0m\n\u001b[0;32m      3\u001b[0m   \u001b[0mlineCount\u001b[0m \u001b[1;33m=\u001b[0m \u001b[1;36m0\u001b[0m\u001b[1;33m\u001b[0m\u001b[1;33m\u001b[0m\u001b[0m\n\u001b[0;32m      4\u001b[0m   \u001b[1;32mfor\u001b[0m \u001b[0mrow\u001b[0m \u001b[1;32min\u001b[0m \u001b[0mcsvReader\u001b[0m\u001b[1;33m:\u001b[0m\u001b[1;33m\u001b[0m\u001b[1;33m\u001b[0m\u001b[0m\n\u001b[0;32m      5\u001b[0m     \u001b[1;32mif\u001b[0m \u001b[0mlineCount\u001b[0m \u001b[1;33m==\u001b[0m \u001b[1;36m0\u001b[0m\u001b[1;33m:\u001b[0m\u001b[1;33m\u001b[0m\u001b[1;33m\u001b[0m\u001b[0m\n",
      "\u001b[1;31mFileNotFoundError\u001b[0m: [Errno 2] No such file or directory: 'car_fleet.csv'"
     ]
    }
   ],
   "source": [
    "with open('car_fleet.csv') as csvFile:  \n",
    "  csvReader = csv.reader(csvFile, delimiter=',')  \n",
    "  lineCount = 0  \n",
    "  for row in csvReader:  \n",
    "    if lineCount == 0:  \n",
    "        print(f'Column names are: {\", \".join(row)}')  \n",
    "        lineCount += 1  \n",
    "    else:  \n",
    "        print(f'vin: {row[0]} make: {row[1]}, model: {row[2]}, year: {row[3]}, range: {row[4]}, topSpeed: {row[5]}, zeroSixty: {row[6]}, mileage: {row[7]}')  \n",
    "        currentVehicle = copy.deepcopy(myVehicle)  \n",
    "        currentVehicle[\"vin\"] = row[0]  \n",
    "        currentVehicle[\"make\"] = row[1]  \n",
    "        currentVehicle[\"model\"] = row[2]  \n",
    "        currentVehicle[\"year\"] = row[3]  \n",
    "        currentVehicle[\"range\"] = row[4]  \n",
    "        currentVehicle[\"topSpeed\"] = row[5]  \n",
    "        currentVehicle[\"zeroSixty\"] = row[6]  \n",
    "        currentVehicle[\"mileage\"] = row[7]  \n",
    "        myInventoryList.append(currentVehicle)  \n",
    "        lineCount += 1  \n",
    "  print(f'Processed {lineCount} lines.')  "
   ]
  },
  {
   "cell_type": "code",
   "execution_count": null,
   "id": "f3059679",
   "metadata": {},
   "outputs": [],
   "source": []
  },
  {
   "cell_type": "code",
   "execution_count": null,
   "id": "afcbd0a5",
   "metadata": {},
   "outputs": [],
   "source": []
  }
 ],
 "metadata": {
  "kernelspec": {
   "display_name": "Python 3",
   "language": "python",
   "name": "python3"
  },
  "language_info": {
   "codemirror_mode": {
    "name": "ipython",
    "version": 3
   },
   "file_extension": ".py",
   "mimetype": "text/x-python",
   "name": "python",
   "nbconvert_exporter": "python",
   "pygments_lexer": "ipython3",
   "version": "3.8.8"
  }
 },
 "nbformat": 4,
 "nbformat_minor": 5
}
