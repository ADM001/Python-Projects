{
 "cells": [
  {
   "cell_type": "code",
   "execution_count": 1,
   "id": "148fef33",
   "metadata": {},
   "outputs": [
    {
     "name": "stdout",
     "output_type": "stream",
     "text": [
      "This is a string.\n"
     ]
    }
   ],
   "source": [
    "myString=\"This is a string.\"\n",
    "print(myString)"
   ]
  },
  {
   "cell_type": "code",
   "execution_count": 3,
   "id": "dd738425",
   "metadata": {},
   "outputs": [
    {
     "name": "stdout",
     "output_type": "stream",
     "text": [
      "<class 'str'>\n"
     ]
    }
   ],
   "source": [
    "print(type(myString))"
   ]
  },
  {
   "cell_type": "code",
   "execution_count": 4,
   "id": "827a99a6",
   "metadata": {},
   "outputs": [
    {
     "name": "stdout",
     "output_type": "stream",
     "text": [
      "waterfall\n"
     ]
    }
   ],
   "source": [
    "firstString = \"water\"\n",
    "secondString = \"fall\"\n",
    "thirdString = firstString + secondString\n",
    "print(thirdString)"
   ]
  },
  {
   "cell_type": "code",
   "execution_count": 5,
   "id": "39acc339",
   "metadata": {},
   "outputs": [
    {
     "name": "stdout",
     "output_type": "stream",
     "text": [
      "What is your name? Aloysius\n"
     ]
    }
   ],
   "source": [
    "name = input(\"What is your name? \")"
   ]
  },
  {
   "cell_type": "code",
   "execution_count": 6,
   "id": "be0365f4",
   "metadata": {},
   "outputs": [
    {
     "name": "stdout",
     "output_type": "stream",
     "text": [
      "Aloysius\n"
     ]
    }
   ],
   "source": [
    "print(name)"
   ]
  },
  {
   "cell_type": "code",
   "execution_count": 7,
   "id": "fc67398f",
   "metadata": {},
   "outputs": [
    {
     "name": "stdout",
     "output_type": "stream",
     "text": [
      "What is your favorite color?  Blue\n",
      "What is your favorite animal?  Lion\n"
     ]
    }
   ],
   "source": [
    "color = input(\"What is your favorite color?  \")\n",
    "animal = input(\"What is your favorite animal?  \")"
   ]
  },
  {
   "cell_type": "code",
   "execution_count": 8,
   "id": "3c64c014",
   "metadata": {},
   "outputs": [
    {
     "name": "stdout",
     "output_type": "stream",
     "text": [
      "Aloysius, you like a Blue Lion!\n"
     ]
    }
   ],
   "source": [
    "print(\"{}, you like a {} {}!\".format(name,color,animal))"
   ]
  },
  {
   "cell_type": "code",
   "execution_count": null,
   "id": "747e161b",
   "metadata": {},
   "outputs": [],
   "source": []
  }
 ],
 "metadata": {
  "kernelspec": {
   "display_name": "Python 3",
   "language": "python",
   "name": "python3"
  },
  "language_info": {
   "codemirror_mode": {
    "name": "ipython",
    "version": 3
   },
   "file_extension": ".py",
   "mimetype": "text/x-python",
   "name": "python",
   "nbconvert_exporter": "python",
   "pygments_lexer": "ipython3",
   "version": "3.8.8"
  }
 },
 "nbformat": 4,
 "nbformat_minor": 5
}
